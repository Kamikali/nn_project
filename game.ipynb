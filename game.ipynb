{
 "cells": [
  {
   "cell_type": "markdown",
   "metadata": {},
   "source": [
    "### Spiele gegen den Agenten!\n"
   ]
  },
  {
   "cell_type": "code",
   "execution_count": 1,
   "metadata": {},
   "outputs": [
    {
     "name": "stderr",
     "output_type": "stream",
     "text": [
      "/tmp/ipykernel_6685/1559766469.py:5: FutureWarning: You are using `torch.load` with `weights_only=False` (the current default value), which uses the default pickle module implicitly. It is possible to construct malicious pickle data which will execute arbitrary code during unpickling (See https://github.com/pytorch/pytorch/blob/main/SECURITY.md#untrusted-models for more details). In a future release, the default value for `weights_only` will be flipped to `True`. This limits the functions that could be executed during unpickling. Arbitrary objects will no longer be allowed to be loaded via this mode unless they are explicitly allowlisted by the user via `torch.serialization.add_safe_globals`. We recommend you start setting `weights_only=True` for any use case where you don't have full control of the loaded file. Please open an issue on GitHub for any issues related to this experimental feature.\n",
      "  model.load_state_dict(torch.load('dqn_model.pth'))\n"
     ]
    },
    {
     "name": "stdout",
     "output_type": "stream",
     "text": [
      "[['X' '-' '-']\n",
      " ['-' 'O' '-']\n",
      " ['-' '-' '-']]\n",
      "[['X' 'X' 'O']\n",
      " ['-' 'O' '-']\n",
      " ['-' '-' '-']]\n",
      "[['X' 'X' 'O']\n",
      " ['X' 'O' '-']\n",
      " ['O' '-' '-']]\n",
      "[['X' 'X' 'O']\n",
      " ['X' 'O' '-']\n",
      " ['O' '-' '-']]\n",
      "o_win\n"
     ]
    }
   ],
   "source": [
    "from tiktaktoe import *\n",
    "from IPython.display import clear_output\n",
    "\n",
    "model = NN()\n",
    "model.load_state_dict(torch.load('dqn_model.pth'))\n",
    "model.eval()\n",
    "\n",
    "player_1 = InputPlayer()\n",
    "player_2 = NNPlayer(model)\n",
    "#player_2 = RandomPlayer()\n",
    "\n",
    "game = TikTakToe(starting_player_x=player_1, second_player_o=player_2)\n",
    "\n",
    "\n",
    "game.reset()\n",
    "\n",
    "while game.is_ongoing:\n",
    "    player_1.take_field(game)\n",
    "    if not game.is_ongoing:\n",
    "        break\n",
    "    player_2.take_field(game)\n",
    "    game.print()\n",
    "    \n",
    "game.print()\n",
    "print(game.result)"
   ]
  },
  {
   "cell_type": "code",
   "execution_count": 17,
   "metadata": {},
   "outputs": [
    {
     "name": "stdout",
     "output_type": "stream",
     "text": [
      "Player 1 has won the game!\n"
     ]
    }
   ],
   "source": [
    "player_1.take_field(game, 4)"
   ]
  },
  {
   "cell_type": "code",
   "execution_count": 5,
   "metadata": {},
   "outputs": [
    {
     "data": {
      "text/plain": [
       "tensor([[0., 1., 0.],\n",
       "        [1., 0., 0.],\n",
       "        [0., 1., 0.],\n",
       "        [1., 0., 0.],\n",
       "        [0., 0., 1.],\n",
       "        [1., 0., 0.],\n",
       "        [0., 0., 1.],\n",
       "        [0., 0., 1.],\n",
       "        [0., 1., 0.]])"
      ]
     },
     "execution_count": 5,
     "metadata": {},
     "output_type": "execute_result"
    }
   ],
   "source": [
    "game.string_to_tensor(pov=PlayerNr.X)"
   ]
  }
 ],
 "metadata": {
  "kernelspec": {
   "display_name": "nn_project",
   "language": "python",
   "name": "python3"
  },
  "language_info": {
   "codemirror_mode": {
    "name": "ipython",
    "version": 3
   },
   "file_extension": ".py",
   "mimetype": "text/x-python",
   "name": "python",
   "nbconvert_exporter": "python",
   "pygments_lexer": "ipython3",
   "version": "3.11.2"
  }
 },
 "nbformat": 4,
 "nbformat_minor": 2
}
