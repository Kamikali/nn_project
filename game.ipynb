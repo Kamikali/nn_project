{
 "cells": [
  {
   "cell_type": "code",
   "execution_count": 1,
   "metadata": {},
   "outputs": [],
   "source": [
    "from tiktaktoe import *\n",
    "from IPython.display import clear_output"
   ]
  },
  {
   "cell_type": "code",
   "execution_count": 2,
   "metadata": {},
   "outputs": [],
   "source": [
    "player_1 = InputPlayer()\n",
    "player_2 = RandomPlayer()\n",
    "\n",
    "game = TikTakToe(starting_player_x=player_1, second_player_o=player_2)"
   ]
  },
  {
   "cell_type": "code",
   "execution_count": 5,
   "metadata": {},
   "outputs": [],
   "source": [
    "game.reset()"
   ]
  },
  {
   "cell_type": "code",
   "execution_count": 6,
   "metadata": {},
   "outputs": [
    {
     "name": "stdout",
     "output_type": "stream",
     "text": [
      "[['X' 'O' '-']\n",
      " ['-' 'X' 'O']\n",
      " ['O' '-' 'X']]\n"
     ]
    }
   ],
   "source": [
    "while game.is_ongoing:\n",
    "    player_1.take_field(game)\n",
    "    clear_output()\n",
    "    if not game.is_ongoing:\n",
    "        break\n",
    "    player_2.take_field(game)\n",
    "    game.print()\n",
    "    \n",
    "print(game.result)"
   ]
  },
  {
   "cell_type": "code",
   "execution_count": 17,
   "metadata": {},
   "outputs": [
    {
     "name": "stdout",
     "output_type": "stream",
     "text": [
      "Player 1 has won the game!\n"
     ]
    }
   ],
   "source": [
    "player_1.take_field(game, 4)"
   ]
  }
 ],
 "metadata": {
  "kernelspec": {
   "display_name": "nn_project",
   "language": "python",
   "name": "python3"
  },
  "language_info": {
   "codemirror_mode": {
    "name": "ipython",
    "version": 3
   },
   "file_extension": ".py",
   "mimetype": "text/x-python",
   "name": "python",
   "nbconvert_exporter": "python",
   "pygments_lexer": "ipython3",
   "version": "3.12.3"
  }
 },
 "nbformat": 4,
 "nbformat_minor": 2
}
